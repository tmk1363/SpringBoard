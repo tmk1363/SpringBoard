{
 "cells": [
  {
   "cell_type": "code",
   "execution_count": 28,
   "metadata": {},
   "outputs": [],
   "source": [
    "import requests\n",
    "\"\"\"The Fankfurt stock exchange data does not exists on quandl at this time\"\"\"\n",
    "\n",
    "API_KEY = 'https://www.quandl.com/api/v3/datasets/FRED/NROUST?api_key=Qc8qUEwWnhgbiMAjJyXL'\n",
    "\n",
    "API_KEY = 'https://www.quandl.com/api/v3/datasets/ECB/BLS_Q_U2_ALL_Z_H_H_F6_BM_S_BWSD?start_date=2017-01-01&end_date=2017-12-31&api_key=Qc8qUEwWnhgbiMAjJyXL'\n",
    "\n",
    "#API_KEY = 'https://www.quandl.com/api/v3/datasets/BATS/EDGA_XLTY?start_date=2017-01-01&end_date=2017-12-31&api_key=Qc8qUEwWnhgbiMAjJyXL'\n",
    "\n",
    "\n",
    "r = requests.get(API_KEY, auth=('user', 'pass'))\n",
    "\n",
    "\n",
    "\n"
   ]
  },
  {
   "cell_type": "code",
   "execution_count": 29,
   "metadata": {},
   "outputs": [
    {
     "data": {
      "text/plain": [
       "200"
      ]
     },
     "execution_count": 29,
     "metadata": {},
     "output_type": "execute_result"
    }
   ],
   "source": [
    ">>> r.status_code"
   ]
  },
  {
   "cell_type": "code",
   "execution_count": 30,
   "metadata": {},
   "outputs": [
    {
     "data": {
      "text/plain": [
       "'application/json; charset=utf-8'"
      ]
     },
     "execution_count": 30,
     "metadata": {},
     "output_type": "execute_result"
    }
   ],
   "source": [
    ">>> r.headers['content-type']"
   ]
  },
  {
   "cell_type": "code",
   "execution_count": 31,
   "metadata": {},
   "outputs": [
    {
     "data": {
      "text/plain": [
       "'utf-8'"
      ]
     },
     "execution_count": 31,
     "metadata": {},
     "output_type": "execute_result"
    }
   ],
   "source": [
    ">>> r.encoding"
   ]
  },
  {
   "cell_type": "code",
   "execution_count": 32,
   "metadata": {},
   "outputs": [],
   "source": [
    " L = r.text"
   ]
  },
  {
   "cell_type": "code",
   "execution_count": 18,
   "metadata": {},
   "outputs": [
    {
     "data": {
      "text/plain": [
       "{'dataset': {'id': 27313153,\n",
       "  'dataset_code': 'BLS_Q_U2_ALL_Z_H_H_F6_BM_S_BWSD',\n",
       "  'database_code': 'ECB',\n",
       "  'name': 'Euro area in the total loan outstanding amounts of the area aggregate and of each bank in the total loan outstanding amount of the BLS banks sample',\n",
       "  'description': 'Euro area (changing composition) - All banks - contract counterpart Household, motivation Loans for house purchase - Forward looking six months - domain of CRR/CRD IV, effect on credit margins - Loan supply - Weighted standard deviation estimate, based on the share of each country in the total loan outstanding amounts of the area aggregate and of each bank in the total loan outstanding amount of the BLS banks sample',\n",
       "  'refreshed_at': '2021-08-21T04:08:44.434Z',\n",
       "  'newest_available_date': '2020-03-31',\n",
       "  'oldest_available_date': '2008-06-30',\n",
       "  'column_names': ['Date', 'Unit described in title'],\n",
       "  'frequency': 'quarterly',\n",
       "  'type': 'Time Series',\n",
       "  'premium': False,\n",
       "  'limit': None,\n",
       "  'transform': None,\n",
       "  'column_index': None,\n",
       "  'start_date': '2017-01-01',\n",
       "  'end_date': '2017-12-31',\n",
       "  'data': [['2017-09-30', 0.26], ['2017-03-31', 0.25]],\n",
       "  'collapse': None,\n",
       "  'order': None,\n",
       "  'database_id': 8917}}"
      ]
     },
     "execution_count": 18,
     "metadata": {},
     "output_type": "execute_result"
    }
   ],
   "source": [
    " r.json()\n"
   ]
  },
  {
   "cell_type": "code",
   "execution_count": 33,
   "metadata": {},
   "outputs": [
    {
     "name": "stdout",
     "output_type": "stream",
     "text": [
      "{'dataset': {'id': 27313153, 'dataset_code': 'BLS_Q_U2_ALL_Z_H_H_F6_BM_S_BWSD', 'database_code': 'ECB', 'name': 'Euro area in the total loan outstanding amounts of the area aggregate and of each bank in the total loan outstanding amount of the BLS banks sample', 'description': 'Euro area (changing composition) - All banks - contract counterpart Household, motivation Loans for house purchase - Forward looking six months - domain of CRR/CRD IV, effect on credit margins - Loan supply - Weighted standard deviation estimate, based on the share of each country in the total loan outstanding amounts of the area aggregate and of each bank in the total loan outstanding amount of the BLS banks sample', 'refreshed_at': '2021-08-21T04:08:44.434Z', 'newest_available_date': '2020-03-31', 'oldest_available_date': '2008-06-30', 'column_names': ['Date', 'Unit described in title'], 'frequency': 'quarterly', 'type': 'Time Series', 'premium': False, 'limit': None, 'transform': None, 'column_index': None, 'start_date': '2017-01-01', 'end_date': '2017-12-31', 'data': [['2017-09-30', 0.26], ['2017-03-31', 0.25]], 'collapse': None, 'order': None, 'database_id': 8917}}\n"
     ]
    }
   ],
   "source": [
    "import json\n",
    "\n",
    "#jsonString = r.json()\n",
    "aDict = json.loads(L)\n",
    "print(aDict)\n"
   ]
  },
  {
   "cell_type": "code",
   "execution_count": 44,
   "metadata": {},
   "outputs": [
    {
     "data": {
      "text/plain": [
       "[['2017-09-30', 0.26], ['2017-03-31', 0.25]]"
      ]
     },
     "execution_count": 44,
     "metadata": {},
     "output_type": "execute_result"
    }
   ],
   "source": [
    " aDict.get(\"dataset\").get(\"data\")"
   ]
  },
  {
   "cell_type": "code",
   "execution_count": 47,
   "metadata": {},
   "outputs": [
    {
     "data": {
      "text/plain": [
       "dict_keys(['id', 'dataset_code', 'database_code', 'name', 'description', 'refreshed_at', 'newest_available_date', 'oldest_available_date', 'column_names', 'frequency', 'type', 'premium', 'limit', 'transform', 'column_index', 'start_date', 'end_date', 'data', 'collapse', 'order', 'database_id'])"
      ]
     },
     "execution_count": 47,
     "metadata": {},
     "output_type": "execute_result"
    }
   ],
   "source": [
    " aDict.get(\"dataset\").keys()"
   ]
  },
  {
   "cell_type": "code",
   "execution_count": null,
   "metadata": {},
   "outputs": [],
   "source": []
  }
 ],
 "metadata": {
  "kernelspec": {
   "display_name": "Python 3",
   "language": "python",
   "name": "python3"
  },
  "language_info": {
   "codemirror_mode": {
    "name": "ipython",
    "version": 3
   },
   "file_extension": ".py",
   "mimetype": "text/x-python",
   "name": "python",
   "nbconvert_exporter": "python",
   "pygments_lexer": "ipython3",
   "version": "3.8.3"
  }
 },
 "nbformat": 4,
 "nbformat_minor": 4
}
