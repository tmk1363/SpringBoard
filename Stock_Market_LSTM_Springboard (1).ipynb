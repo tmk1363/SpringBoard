{
  "nbformat": 4,
  "nbformat_minor": 0,
  "metadata": {
    "colab": {
      "name": "Stock_Market_LSTM_Springboard.ipynb",
      "provenance": [],
      "collapsed_sections": []
    },
    "kernelspec": {
      "name": "python3",
      "display_name": "Python 3"
    },
    "language_info": {
      "name": "python"
    }
  },
  "cells": [
    {
      "cell_type": "code",
      "metadata": {
        "id": "0EX_uP9Hb9SG"
      },
      "source": [
        "import datetime as dt\n",
        "\n",
        "class Timer():\n",
        "\n",
        "\tdef __init__(self):\n",
        "\t\tself.start_dt = None\n",
        "\n",
        "\tdef start(self):\n",
        "\t\tself.start_dt = dt.datetime.now()\n",
        "\n",
        "\tdef stop(self):\n",
        "\t\tend_dt = dt.datetime.now()\n",
        "\t\tprint('Time taken: %s' % (end_dt - self.start_dt))\n",
        "  \n"
      ],
      "execution_count": 18,
      "outputs": []
    },
    {
      "cell_type": "code",
      "metadata": {
        "colab": {
          "base_uri": "https://localhost:8080/",
          "height": 212
        },
        "id": "pmPIbyR2R1jH",
        "outputId": "8768227b-99b9-4e74-e7da-18d06355b5a6"
      },
      "source": [
        "!pip install -U -q PyDrive\n",
        "import os\n",
        "from pydrive.auth import GoogleAuth\n",
        "from pydrive.drive import GoogleDrive\n",
        "from google.colab import auth\n",
        "from oauth2client.client import GoogleCredentials\n",
        "\n",
        "# 1. Authenticate and create the PyDrive client.\n",
        "auth.authenticate_user()\n",
        "gauth = GoogleAuth()\n",
        "gauth.credentials = GoogleCredentials.get_application_default()\n",
        "drive = GoogleDrive(gauth)\n",
        "\n",
        "# choose a local (colab) directory to store the data.\n",
        "local_download_path = os.path.expanduser('~/data')\n",
        "try:\n",
        "  os.makedirs(local_download_path)\n",
        "except: pass\n",
        "\n",
        "# 2. Auto-iterate using the query syntax\n",
        "#    https://developers.google.com/drive/v2/web/search-parameters\n",
        "file_list = drive.ListFile(\n",
        "    {'q': \"'1SooKSw8M4ACbznKjnNrYvJ5wxuqJ-YCk' in parents\"}).GetList()\n",
        "\n",
        "\n",
        "\n"
      ],
      "execution_count": 5,
      "outputs": [
        {
          "output_type": "error",
          "ename": "NameError",
          "evalue": "ignored",
          "traceback": [
            "\u001b[0;31m---------------------------------------------------------------------------\u001b[0m",
            "\u001b[0;31mNameError\u001b[0m                                 Traceback (most recent call last)",
            "\u001b[0;32m<ipython-input-5-acbbd7a183ec>\u001b[0m in \u001b[0;36m<module>\u001b[0;34m()\u001b[0m\n\u001b[1;32m     32\u001b[0m \u001b[0;34m\u001b[0m\u001b[0m\n\u001b[1;32m     33\u001b[0m \u001b[0;34m\u001b[0m\u001b[0m\n\u001b[0;32m---> 34\u001b[0;31m \u001b[0;32mwith\u001b[0m \u001b[0mopen\u001b[0m\u001b[0;34m(\u001b[0m\u001b[0mfname\u001b[0m\u001b[0;34m,\u001b[0m \u001b[0;34m'r'\u001b[0m\u001b[0;34m)\u001b[0m \u001b[0;32mas\u001b[0m \u001b[0mf\u001b[0m\u001b[0;34m:\u001b[0m\u001b[0;34m\u001b[0m\u001b[0;34m\u001b[0m\u001b[0m\n\u001b[0m\u001b[1;32m     35\u001b[0m   \u001b[0mprint\u001b[0m\u001b[0;34m(\u001b[0m\u001b[0mf\u001b[0m\u001b[0;34m.\u001b[0m\u001b[0mread\u001b[0m\u001b[0;34m(\u001b[0m\u001b[0;34m)\u001b[0m\u001b[0;34m)\u001b[0m\u001b[0;34m\u001b[0m\u001b[0;34m\u001b[0m\u001b[0m\n",
            "\u001b[0;31mNameError\u001b[0m: name 'fname' is not defined"
          ]
        }
      ]
    },
    {
      "cell_type": "code",
      "metadata": {
        "id": "2U_kv_EaWn_C"
      },
      "source": [
        "for f in file_list:\n",
        "  # 3. Create & download by id.\n",
        "  print('title: %s, id: %s' % (f['title'], f['id']))\n",
        "  fname = os.path.join(local_download_path, f['title'])\n",
        "  print('downloading to {}'.format(fname))\n",
        "  f_ = drive.CreateFile({'id': f['id']})\n",
        "  f_.GetContentFile(fname)\n"
      ],
      "execution_count": 7,
      "outputs": []
    },
    {
      "cell_type": "code",
      "metadata": {
        "colab": {
          "base_uri": "https://localhost:8080/"
        },
        "id": "vUwFSFFI0WUG",
        "outputId": "10ee2e53-df75-4e57-8e53-56244b6463b7"
      },
      "source": [
        "with open(\"/content/drive/MyDrive/Colab Notebooks/Spring board/config2.json\", 'r') as f:\n",
        "  #print(f.read())\n",
        "  config = f.read()\n",
        "  print(config)\n"
      ],
      "execution_count": 10,
      "outputs": [
        {
          "output_type": "stream",
          "text": [
            "{\n",
            "\t\"data\": {\n",
            "\t\t\"filename\": \"sp500.csv\",\n",
            "\t\t\"columns\": [\n",
            "\t\t\t\"Close\",\n",
            "\t\t\t\"Volume\"\n",
            "\t\t],\n",
            "\t\t\"sequence_length\": 50,\n",
            "\t\t\"train_test_split\": 0.85,\n",
            "\t\t\"normalise\": true\n",
            "\t},\n",
            "\t\"training\": {\n",
            "\t\t\"epochs\": 2,\n",
            "\t\t\"batch_size\": 32\n",
            "\t},\n",
            "\t\"model\": {\n",
            "\t\t\"loss\": \"mse\",\n",
            "\t\t\"optimizer\": \"adam\",\n",
            "\t\t\"save_dir\": \"saved_models\",\n",
            "\t\t\"layers\": [\n",
            "\t\t\t{\n",
            "\t\t\t\t\"type\": \"lstm\",\n",
            "\t\t\t\t\"neurons\": 100,\n",
            "\t\t\t\t\"input_timesteps\": 49,\n",
            "\t\t\t\t\"input_dim\": 2,\n",
            "\t\t\t\t\"return_seq\": true\n",
            "\t\t\t},\n",
            "\t\t\t{\n",
            "\t\t\t\t\"type\": \"dropout\",\n",
            "\t\t\t\t\"rate\": 0.2\n",
            "\t\t\t},\n",
            "\t\t\t{\n",
            "\t\t\t\t\"type\": \"lstm\",\n",
            "\t\t\t\t\"neurons\": 100,\n",
            "\t\t\t\t\"return_seq\": true\n",
            "\t\t\t},\n",
            "\t\t\t{\n",
            "\t\t\t\t\"type\": \"lstm\",\n",
            "\t\t\t\t\"neurons\": 100,\n",
            "\t\t\t\t\"return_seq\": false\n",
            "\t\t\t},\n",
            "\t\t\t{\n",
            "\t\t\t\t\"type\": \"dropout\",\n",
            "\t\t\t\t\"rate\": 0.2\n",
            "\t\t\t},\n",
            "\t\t\t{\n",
            "\t\t\t\t\"type\": \"dense\",\n",
            "\t\t\t\t\"neurons\": 1,\n",
            "\t\t\t\t\"activation\": \"linear\"\n",
            "\t\t\t}\n",
            "\t\t]\n",
            "\t}\n",
            "}\n"
          ],
          "name": "stdout"
        }
      ]
    },
    {
      "cell_type": "code",
      "metadata": {
        "id": "4rvQuzm7cC-U"
      },
      "source": [
        "import math\n",
        "import numpy as np\n",
        "import pandas as pd\n",
        "\n",
        "class DataLoader():\n",
        "    \"\"\"A class for loading and transforming data for the lstm model\"\"\"\n",
        "\n",
        "    def __init__(self, filename, split, cols):\n",
        "        dataframe = pd.read_csv(filename)\n",
        "        i_split = int(len(dataframe) * split)\n",
        "        self.data_train = dataframe.get(cols).values[:i_split]\n",
        "        self.data_test  = dataframe.get(cols).values[i_split:]\n",
        "        self.len_train  = len(self.data_train)\n",
        "        self.len_test   = len(self.data_test)\n",
        "        self.len_train_windows = None\n",
        "\n",
        "    def get_test_data(self, seq_len, normalise):\n",
        "        '''\n",
        "        Create x, y test data windows\n",
        "        Warning: batch method, not generative, make sure you have enough memory to\n",
        "        load data, otherwise reduce size of the training split.\n",
        "        '''\n",
        "        data_windows = []\n",
        "        for i in range(self.len_test - seq_len):\n",
        "            data_windows.append(self.data_test[i:i+seq_len])\n",
        "\n",
        "        data_windows = np.array(data_windows).astype(float)\n",
        "        data_windows = self.normalise_windows(data_windows, single_window=False) if normalise else data_windows\n",
        "\n",
        "        x = data_windows[:, :-1]\n",
        "        y = data_windows[:, -1, [0]]\n",
        "        return x,y\n",
        "\n",
        "    def get_train_data(self, seq_len, normalise):\n",
        "        '''\n",
        "        Create x, y train data windows\n",
        "        Warning: batch method, not generative, make sure you have enough memory to\n",
        "        load data, otherwise use generate_training_window() method.\n",
        "        '''\n",
        "        data_x = []\n",
        "        data_y = []\n",
        "        for i in range(self.len_train - seq_len):\n",
        "            x, y = self._next_window(i, seq_len, normalise)\n",
        "            data_x.append(x)\n",
        "            data_y.append(y)\n",
        "        return np.array(data_x), np.array(data_y)\n",
        "\n",
        "    def generate_train_batch(self, seq_len, batch_size, normalise):\n",
        "        '''Yield a generator of training data from filename on given list of cols split for train/test'''\n",
        "        i = 0\n",
        "        while i < (self.len_train - seq_len):\n",
        "            x_batch = []\n",
        "            y_batch = []\n",
        "            for b in range(batch_size):\n",
        "                if i >= (self.len_train - seq_len):\n",
        "                    # stop-condition for a smaller final batch if data doesn't divide evenly\n",
        "                    yield np.array(x_batch), np.array(y_batch)\n",
        "                    i = 0\n",
        "                x, y = self._next_window(i, seq_len, normalise)\n",
        "                x_batch.append(x)\n",
        "                y_batch.append(y)\n",
        "                i += 1\n",
        "            yield np.array(x_batch), np.array(y_batch)\n",
        "\n",
        "    def _next_window(self, i, seq_len, normalise):\n",
        "        '''Generates the next data window from the given index location i'''\n",
        "        window = self.data_train[i:i+seq_len]\n",
        "        window = self.normalise_windows(window, single_window=True)[0] if normalise else window\n",
        "        x = window[:-1]\n",
        "        y = window[-1, [0]]\n",
        "        return x, y\n",
        "\n",
        "    def normalise_windows(self, window_data, single_window=False):\n",
        "        '''Normalise window with a base value of zero'''\n",
        "        normalised_data = []\n",
        "        window_data = [window_data] if single_window else window_data\n",
        "        for window in window_data:\n",
        "            normalised_window = []\n",
        "            for col_i in range(window.shape[1]):\n",
        "                normalised_col = [((float(p) / float(window[0, col_i])) - 1) for p in window[:, col_i]]\n",
        "                normalised_window.append(normalised_col)\n",
        "            normalised_window = np.array(normalised_window).T # reshape and transpose array back into original multidimensional format\n",
        "            normalised_data.append(normalised_window)\n",
        "        return np.array(normalised_data)\n",
        "    "
      ],
      "execution_count": 23,
      "outputs": []
    },
    {
      "cell_type": "code",
      "metadata": {
        "id": "TfGtiZD1igyD"
      },
      "source": [
        "import os\n",
        "import math\n",
        "import numpy as np\n",
        "import datetime as dt\n",
        "from numpy import newaxis\n",
        "\n",
        "\n",
        "#from pyping.utils import Timer\n",
        "#from core.utils import Timer\n",
        "#import Timer\n",
        "from keras.layers import Dense, Activation, Dropout, LSTM\n",
        "from keras.models import Sequential, load_model\n",
        "from keras.callbacks import EarlyStopping, ModelCheckpoint\n",
        "\n",
        "class Model():\n",
        "\t\"\"\"A class for an building and inferencing an lstm model\"\"\"\n",
        "\n",
        "\tdef __init__(self):\n",
        "\t\tself.model = Sequential()\n",
        "\n",
        "\tdef load_model(self, filepath):\n",
        "\t\tprint('[Model] Loading model from file %s' % filepath)\n",
        "\t\tself.model = load_model(filepath)\n",
        "\n",
        "\tdef build_model(self, configs):\n",
        "\t\ttimer = Timer()\n",
        "\t\ttimer.start()\n",
        "\n",
        "\t\tfor layer in configs['model']['layers']:\n",
        "\t\t\tneurons = layer['neurons'] if 'neurons' in layer else None\n",
        "\t\t\tdropout_rate = layer['rate'] if 'rate' in layer else None\n",
        "\t\t\tactivation = layer['activation'] if 'activation' in layer else None\n",
        "\t\t\treturn_seq = layer['return_seq'] if 'return_seq' in layer else None\n",
        "\t\t\tinput_timesteps = layer['input_timesteps'] if 'input_timesteps' in layer else None\n",
        "\t\t\tinput_dim = layer['input_dim'] if 'input_dim' in layer else None\n",
        "\n",
        "\t\t\tif layer['type'] == 'dense':\n",
        "\t\t\t\tself.model.add(Dense(neurons, activation=activation))\n",
        "\t\t\tif layer['type'] == 'lstm':\n",
        "\t\t\t\tself.model.add(LSTM(neurons, input_shape=(input_timesteps, input_dim), return_sequences=return_seq))\n",
        "\t\t\tif layer['type'] == 'dropout':\n",
        "\t\t\t\tself.model.add(Dropout(dropout_rate))\n",
        "\n",
        "\t\tself.model.compile(loss=configs['model']['loss'], optimizer=configs['model']['optimizer'])\n",
        "\n",
        "\t\tprint('[Model] Model Compiled')\n",
        "\t\ttimer.stop()\n",
        "\n",
        "\tdef train(self, x, y, epochs, batch_size, save_dir):\n",
        "\t\ttimer = Timer()\n",
        "\t\ttimer.start()\n",
        "\t\tprint('[Model] Training Started')\n",
        "\t\tprint('[Model] %s epochs, %s batch size' % (epochs, batch_size))\n",
        "\t\t\n",
        "\t\tsave_fname = os.path.join(save_dir, '%s-e%s.h5' % (dt.datetime.now().strftime('%d%m%Y-%H%M%S'), str(epochs)))\n",
        "\t\tcallbacks = [\n",
        "\t\t\tEarlyStopping(monitor='val_loss', patience=2),\n",
        "\t\t\tModelCheckpoint(filepath=save_fname, monitor='val_loss', save_best_only=True)\n",
        "\t\t]\n",
        "\t\tself.model.fit(\n",
        "\t\t\tx,\n",
        "\t\t\ty,\n",
        "\t\t\tepochs=epochs,\n",
        "\t\t\tbatch_size=batch_size,\n",
        "\t\t\tcallbacks=callbacks\n",
        "\t\t)\n",
        "\t\tself.model.save(save_fname)\n",
        "\n",
        "\t\tprint('[Model] Training Completed. Model saved as %s' % save_fname)\n",
        "\t\ttimer.stop()\n",
        "\n",
        "\tdef train_generator(self, data_gen, epochs, batch_size, steps_per_epoch, save_dir):\n",
        "\t\ttimer = Timer()\n",
        "\t\ttimer.start()\n",
        "\t\tprint('[Model] Training Started')\n",
        "\t\tprint('[Model] %s epochs, %s batch size, %s batches per epoch' % (epochs, batch_size, steps_per_epoch))\n",
        "\t\t\n",
        "\t\tsave_fname = os.path.join(save_dir, '%s-e%s.h5' % (dt.datetime.now().strftime('%d%m%Y-%H%M%S'), str(epochs)))\n",
        "\t\tcallbacks = [\n",
        "\t\t\tModelCheckpoint(filepath=save_fname, monitor='loss', save_best_only=True)\n",
        "\t\t]\n",
        "\t\tself.model.fit_generator(\n",
        "\t\t\tdata_gen,\n",
        "\t\t\tsteps_per_epoch=steps_per_epoch,\n",
        "\t\t\tepochs=epochs,\n",
        "\t\t\tcallbacks=callbacks,\n",
        "\t\t\tworkers=1\n",
        "\t\t)\n",
        "\t\t\n",
        "\t\tprint('[Model] Training Completed. Model saved as %s' % save_fname)\n",
        "\t\ttimer.stop()\n",
        "\n",
        "\tdef predict_point_by_point(self, data):\n",
        "\t\t#Predict each timestep given the last sequence of true data, in effect only predicting 1 step ahead each time\n",
        "\t\tprint('[Model] Predicting Point-by-Point...')\n",
        "\t\tpredicted = self.model.predict(data)\n",
        "\t\tpredicted = np.reshape(predicted, (predicted.size,))\n",
        "\t\treturn predicted\n",
        "\n",
        "\tdef predict_sequences_multiple(self, data, window_size, prediction_len):\n",
        "\t\t#Predict sequence of 50 steps before shifting prediction run forward by 50 steps\n",
        "\t\tprint('[Model] Predicting Sequences Multiple...')\n",
        "\t\tprediction_seqs = []\n",
        "\t\tfor i in range(int(len(data)/prediction_len)):\n",
        "\t\t\tcurr_frame = data[i*prediction_len]\n",
        "\t\t\tpredicted = []\n",
        "\t\t\tfor j in range(prediction_len):\n",
        "\t\t\t\tpredicted.append(self.model.predict(curr_frame[newaxis,:,:])[0,0])\n",
        "\t\t\t\tcurr_frame = curr_frame[1:]\n",
        "\t\t\t\tcurr_frame = np.insert(curr_frame, [window_size-2], predicted[-1], axis=0)\n",
        "\t\t\tprediction_seqs.append(predicted)\n",
        "\t\treturn prediction_seqs\n",
        "\n",
        "\tdef predict_sequence_full(self, data, window_size):\n",
        "\t\t#Shift the window by 1 new prediction each time, re-run predictions on new window\n",
        "\t\tprint('[Model] Predicting Sequences Full...')\n",
        "\t\tcurr_frame = data[0]\n",
        "\t\tpredicted = []\n",
        "\t\tfor i in range(len(data)):\n",
        "\t\t\tpredicted.append(self.model.predict(curr_frame[newaxis,:,:])[0,0])\n",
        "\t\t\tcurr_frame = curr_frame[1:]\n",
        "\t\t\tcurr_frame = np.insert(curr_frame, [window_size-2], predicted[-1], axis=0)\n",
        "\t\treturn predicted"
      ],
      "execution_count": 19,
      "outputs": []
    },
    {
      "cell_type": "code",
      "metadata": {
        "id": "28kjQQH8qKIj"
      },
      "source": [
        "#!apt-get install python3.7"
      ],
      "execution_count": null,
      "outputs": []
    },
    {
      "cell_type": "code",
      "metadata": {
        "id": "S5OuwK_gsU31"
      },
      "source": [
        "!pip install tensorflow"
      ],
      "execution_count": null,
      "outputs": []
    },
    {
      "cell_type": "code",
      "metadata": {
        "id": "f4gP9g60tlWL",
        "colab": {
          "base_uri": "https://localhost:8080/"
        },
        "outputId": "e16a55b7-4a11-4dc9-88c2-77ce99b11765"
      },
      "source": [
        "configs = json.load(open('/content/drive/MyDrive/Colab Notebooks/Spring board/config2.json', 'r'))\n",
        "\n",
        "data = DataLoader(\n",
        "\tos.path.join('/content/drive/MyDrive/Colab Notebooks/Spring board/data', configs['data']['filename']),\n",
        "\tconfigs['data']['train_test_split'],\n",
        "\tconfigs['data']['columns']\n",
        ")\n",
        "\n",
        "model = Model()\n",
        "model.build_model(configs)\n",
        "x, y = data.get_train_data(\n",
        "\tseq_len = configs['data']['sequence_length'],\n",
        "\tnormalise = configs['data']['normalise']\n",
        ")\n",
        "\n",
        "model.train(\n",
        "\tx,\n",
        "\ty,\n",
        "\tepochs = configs['training']['epochs'],\n",
        "\tbatch_size = configs['training']['batch_size'], save_dir = \"/content/drive/MyDrive/Colab Notebooks/Spring board/data\"\n",
        ")\n",
        "\n",
        "x_test, y_test = data.get_test_data(\n",
        "\tseq_len = configs['data']['sequence_length'],\n",
        "\tnormalise = configs['data']['normalise']\n",
        ")"
      ],
      "execution_count": 32,
      "outputs": [
        {
          "output_type": "stream",
          "text": [
            "[Model] Model Compiled\n",
            "Time taken: 0:00:00.792337\n",
            "[Model] Training Started\n",
            "[Model] 2 epochs, 32 batch size\n",
            "Epoch 1/2\n",
            "124/124 [==============================] - 17s 102ms/step - loss: 0.0016\n",
            "WARNING:tensorflow:Early stopping conditioned on metric `val_loss` which is not available. Available metrics are: loss\n",
            "WARNING:tensorflow:Can save best model only with val_loss available, skipping.\n",
            "Epoch 2/2\n",
            "124/124 [==============================] - 14s 110ms/step - loss: 5.2222e-04\n",
            "WARNING:tensorflow:Early stopping conditioned on metric `val_loss` which is not available. Available metrics are: loss\n",
            "WARNING:tensorflow:Can save best model only with val_loss available, skipping.\n",
            "[Model] Training Completed. Model saved as /content/drive/MyDrive/Colab Notebooks/Spring board/data/23042021-203405-e2.h5\n",
            "Time taken: 0:00:30.813902\n"
          ],
          "name": "stdout"
        }
      ]
    },
    {
      "cell_type": "code",
      "metadata": {
        "id": "ExNDG5vrwgzb"
      },
      "source": [
        "#!pip3 install i3pystatus"
      ],
      "execution_count": null,
      "outputs": []
    },
    {
      "cell_type": "code",
      "metadata": {
        "id": "xBaAxC0Asbsz"
      },
      "source": [
        "#import time\n",
        "import tensorflow as tf\n",
        "from tensorflow.python.keras.layers import Input, Dense\n",
        "from tensorflow import keras\n",
        "from tensorflow.keras import layers\n",
        "\n",
        "\n",
        "import numpy\n",
        "import matplotlib.pyplot as plt\n",
        "import pandas\n",
        "import math\n",
        "from keras.models import Sequential\n",
        "from keras.layers import Dense\n",
        "from keras.layers import LSTM\n",
        "from sklearn.preprocessing import MinMaxScaler\n",
        "from sklearn.metrics import mean_squared_error\n",
        "\n",
        "from keras.layers import Dropout"
      ],
      "execution_count": null,
      "outputs": []
    },
    {
      "cell_type": "code",
      "metadata": {
        "id": "_oin_uxKjUHz"
      },
      "source": [
        "def predict_point_by_point(self, data):\n",
        "\t#Predict each timestep given the last sequence of true data, in effect only predicting 1 step ahead each time\n",
        "\tpredicted = self.model.predict(data)\n",
        "  \n",
        "\tpredicted = np.reshape(predicted, (predicted.size, ))\n",
        "\treturn predicted\n",
        "\n",
        "def predict_sequence_full(self, data, window_size):\n",
        "\t#Shift the window by 1 new prediction each time, re-run predictions on new window\n",
        "\tcurr_frame = data[0]\n",
        "\tpredicted = []\n",
        "\tfor i in range(len(data)):\n",
        "\t\tpredicted.append(self.model.predict(curr_frame[newaxis,:,:])[0,0])\n",
        "\t\tcurr_frame = curr_frame[1:]\n",
        "\t\tcurr_frame = np.insert(curr_frame, [window_size-2], predicted[-1], axis=0)\n",
        "\treturn predicted\n",
        "\n",
        "\n"
      ],
      "execution_count": 21,
      "outputs": []
    },
    {
      "cell_type": "code",
      "metadata": {
        "colab": {
          "base_uri": "https://localhost:8080/",
          "height": 282
        },
        "id": "x8Uc2r9_MP3H",
        "outputId": "2f70613e-7c82-461d-f068-d3659168c10b"
      },
      "source": [
        "predictions_pointbypoint = predict_point_by_point(model, x_test)\n",
        "#plot_results(predictions_pointbypoint, y_test)\n",
        "plt.plot(predictions_pointbypoint)\n",
        "plt.plot(y_test)\n",
        "\n"
      ],
      "execution_count": 34,
      "outputs": [
        {
          "output_type": "execute_result",
          "data": {
            "text/plain": [
              "[<matplotlib.lines.Line2D at 0x7fc9cf7603d0>]"
            ]
          },
          "metadata": {
            "tags": []
          },
          "execution_count": 34
        },
        {
          "output_type": "display_data",
          "data": {
            "image/png": "[encoded data removed]",
            "text/plain": [
              "<Figure size 432x288 with 1 Axes>"
            ]
          },
          "metadata": {
            "tags": [],
            "needs_background": "light"
          }
        }
      ]
    },
    {
      "cell_type": "code",
      "metadata": {
        "id": "9X_vn5A5N_B8"
      },
      "source": [
        "#y_test"
      ],
      "execution_count": null,
      "outputs": []
    },
    {
      "cell_type": "code",
      "metadata": {
        "colab": {
          "base_uri": "https://localhost:8080/",
          "height": 298
        },
        "id": "un1Nvb4KNWy4",
        "outputId": "1c042c93-78e1-4c8b-f2ca-f795f96d7789"
      },
      "source": [
        "#predictions_fullseq = model.predict_sequence_full(x_test, configs['data']['sequence_length'])\n",
        "#plot_results(predictions_fullseq, y_test)\n",
        "predictions_fullseq = model.predict_sequence_full(x_test, 2)\n",
        "\n",
        "\n",
        "plt.plot(predictions_fullseq)\n",
        "plt.plot(y_test)"
      ],
      "execution_count": 38,
      "outputs": [
        {
          "output_type": "stream",
          "text": [
            "[Model] Predicting Sequences Full...\n"
          ],
          "name": "stdout"
        },
        {
          "output_type": "execute_result",
          "data": {
            "text/plain": [
              "[<matplotlib.lines.Line2D at 0x7fc9ce7239d0>]"
            ]
          },
          "metadata": {
            "tags": []
          },
          "execution_count": 38
        },
        {
          "output_type": "display_data",
          "data": {
            "image/png": "[encoded data removed]",
            "text/plain": [
              "<Figure size 432x288 with 1 Axes>"
            ]
          },
          "metadata": {
            "tags": [],
            "needs_background": "light"
          }
        }
      ]
    },
    {
      "cell_type": "code",
      "metadata": {
        "id": "Ty-GstZqnLz0",
        "colab": {
          "base_uri": "https://localhost:8080/",
          "height": 503
        },
        "outputId": "69413ba0-8927-45ea-9e96-02e7978e9975"
      },
      "source": [
        "import os\n",
        "import json\n",
        "import time\n",
        "import math\n",
        "import matplotlib.pyplot as plt\n",
        "#from core.data_processor import DataLoader\n",
        "#from core.model import Model\n",
        "\n",
        "\n",
        "def plot_results(predicted_data, true_data):\n",
        "    fig = plt.figure(facecolor='white')\n",
        "    ax = fig.add_subplot(111)\n",
        "    ax.plot(true_data, label='True Data')\n",
        "    plt.plot(predicted_data, label='Prediction')\n",
        "    plt.legend()\n",
        "    plt.show()\n",
        "\n",
        "\n",
        "def plot_results_multiple(predicted_data, true_data, prediction_len):\n",
        "    fig = plt.figure(facecolor='white')\n",
        "    ax = fig.add_subplot(111)\n",
        "    ax.plot(true_data, label='True Data')\n",
        "\t# Pad the list of predictions to shift it in the graph to it's correct start\n",
        "    for i, data in enumerate(predicted_data):\n",
        "        padding = [None for p in range(i * prediction_len)]\n",
        "        plt.plot(padding + data, label='Prediction')\n",
        "        plt.legend()\n",
        "    plt.show()\n",
        "\n",
        "\n",
        "def main():\n",
        "    configs = json.load(open('/content/drive/MyDrive/Colab Notebooks/Spring board/config2.json', 'r'))\n",
        "    if not os.path.exists(configs['model']['save_dir']): os.makedirs(configs['model']['save_dir'])\n",
        "\n",
        "    data = DataLoader(\n",
        "        os.path.join('/content/drive/MyDrive/Colab Notebooks/Spring board/data', configs['data']['filename']),\n",
        "        configs['data']['train_test_split'],\n",
        "        configs['data']['columns']\n",
        "    )\n",
        "\n",
        "    model = Model()\n",
        "    model.build_model(configs)\n",
        "    x, y = data.get_train_data(\n",
        "        seq_len=configs['data']['sequence_length'],\n",
        "        normalise=configs['data']['normalise']\n",
        "    )\n",
        "\n",
        "    '''\n",
        "\t# in-memory training\n",
        "\tmodel.train(\n",
        "\t\tx,\n",
        "\t\ty,\n",
        "\t\tepochs = configs['training']['epochs'],\n",
        "\t\tbatch_size = configs['training']['batch_size'],\n",
        "\t\tsave_dir = configs['model']['save_dir']\n",
        "\t)\n",
        "\t'''\n",
        "    # out-of memory generative training\n",
        "    steps_per_epoch = math.ceil((data.len_train - configs['data']['sequence_length']) / configs['training']['batch_size'])\n",
        "    model.train_generator(\n",
        "        data_gen=data.generate_train_batch(\n",
        "            seq_len=configs['data']['sequence_length'],\n",
        "            batch_size=configs['training']['batch_size'],\n",
        "            normalise=configs['data']['normalise']\n",
        "        ),\n",
        "        epochs=configs['training']['epochs'],\n",
        "        batch_size=configs['training']['batch_size'],\n",
        "        steps_per_epoch=steps_per_epoch,\n",
        "        save_dir=configs['model']['save_dir']\n",
        "    )\n",
        "\n",
        "    x_test, y_test = data.get_test_data(\n",
        "        seq_len=configs['data']['sequence_length'],\n",
        "        normalise=configs['data']['normalise']\n",
        "    )\n",
        "\n",
        "    predictions = model.predict_sequences_multiple(x_test, configs['data']['sequence_length'], configs['data']['sequence_length'])\n",
        "    # predictions = model.predict_sequence_full(x_test, configs['data']['sequence_length'])\n",
        "    # predictions = model.predict_point_by_point(x_test)\n",
        "\n",
        "    plot_results_multiple(predictions, y_test, configs['data']['sequence_length'])\n",
        "    # plot_results(predictions, y_test)\n",
        "\n",
        "\n",
        "if __name__ == '__main__':\n",
        "    main()"
      ],
      "execution_count": 29,
      "outputs": [
        {
          "output_type": "stream",
          "text": [
            "[Model] Model Compiled\n",
            "Time taken: 0:00:00.862198\n",
            "[Model] Training Started\n",
            "[Model] 2 epochs, 32 batch size, 124 batches per epoch\n",
            "Epoch 1/2\n"
          ],
          "name": "stdout"
        },
        {
          "output_type": "stream",
          "text": [
            "/usr/local/lib/python3.7/dist-packages/tensorflow/python/keras/engine/training.py:1844: UserWarning: `Model.fit_generator` is deprecated and will be removed in a future version. Please use `Model.fit`, which supports generators.\n",
            "  warnings.warn('`Model.fit_generator` is deprecated and '\n"
          ],
          "name": "stderr"
        },
        {
          "output_type": "stream",
          "text": [
            "124/124 [==============================] - 18s 107ms/step - loss: 0.0030\n",
            "Epoch 2/2\n",
            "124/124 [==============================] - 14s 112ms/step - loss: 8.8409e-04\n",
            "[Model] Training Completed. Model saved as saved_models/23042021-203140-e2.h5\n",
            "Time taken: 0:00:31.846147\n",
            "[Model] Predicting Sequences Multiple...\n"
          ],
          "name": "stdout"
        },
        {
          "output_type": "display_data",
          "data": {
            "image/png": "[encoded data removed]",
            "text/plain": [
              "<Figure size 432x288 with 1 Axes>"
            ]
          },
          "metadata": {
            "tags": []
          }
        }
      ]
    },
    {
      "cell_type": "code",
      "metadata": {
        "id": "wxQdiHQpMOqW"
      },
      "source": [
        "{\n",
        "\t\"data\": {\n",
        "\t\t\"filename\": \"sinewave.csv\",\n",
        "\t\t\"columns\": [\n",
        "\t\t\t\"sinewave\"\n",
        "\t\t],\n",
        "\t\t\"sequence_length\": 50,\n",
        "\t\t\"train_test_split\": 0.8,\n",
        "\t\t\"normalise\": false\n",
        "\t},\n",
        "\t\"training\": {\n",
        "\t\t\"epochs\": 2,\n",
        "\t\t\"batch_size\": 32\n",
        "\t},\n",
        "\t\"model\": {\n",
        "\t\t\"loss\": \"mse\",\n",
        "\t\t\"optimizer\": \"adam\",\n",
        "\t\t\"layers\": [\n",
        "\t\t\t{\n",
        "\t\t\t\t\"type\": \"lstm\",\n",
        "\t\t\t\t\"neurons\": 50,\n",
        "\t\t\t\t\"input_timesteps\": 49,\n",
        "\t\t\t\t\"input_dim\": 1,\n",
        "\t\t\t\t\"return_seq\": true\n",
        "\t\t\t},\n",
        "\t\t\t{\n",
        "\t\t\t\t\"type\": \"dropout\",\n",
        "\t\t\t\t\"rate\": 0.05\n",
        "\t\t\t},\n",
        "\t\t\t{\n",
        "\t\t\t\t\"type\": \"lstm\",\n",
        "\t\t\t\t\"neurons\": 100,\n",
        "\t\t\t\t\"return_seq\": false\n",
        "\t\t\t},\n",
        "\t\t\t{\n",
        "\t\t\t\t\"type\": \"dropout\",\n",
        "\t\t\t\t\"rate\": 0.05\n",
        "\t\t\t},\n",
        "\t\t\t{\n",
        "\t\t\t\t\"type\": \"dense\",\n",
        "\t\t\t\t\"neurons\": 1,\n",
        "\t\t\t\t\"activation\": \"linear\"\n",
        "\t\t\t}\n",
        "\t\t]\n",
        "\t}\n",
        "}"
      ],
      "execution_count": null,
      "outputs": []
    },
    {
      "cell_type": "code",
      "metadata": {
        "id": "2YXJb9YLUGi1"
      },
      "source": [
        "{\n",
        "\t\"data\": {\n",
        "\t\t\"filename\": \"sp500.csv\",\n",
        "\t\t\"columns\": [\n",
        "\t\t\t\"Close\",\n",
        "\t\t\t\"Volume\"\n",
        "\t\t],\n",
        "\t\t\"sequence_length\": 50,\n",
        "\t\t\"train_test_split\": 0.85,\n",
        "\t\t\"normalise\": true\n",
        "\t},\n",
        "\t\"training\": {\n",
        "\t\t\"epochs\": 2,\n",
        "\t\t\"batch_size\": 32\n",
        "\t},\n",
        "\t\"model\": {\n",
        "\t\t\"loss\": \"mse\",\n",
        "\t\t\"optimizer\": \"adam\",\n",
        "\t\t\"save_dir\": \"saved_models\",\n",
        "\t\t\"layers\": [\n",
        "\t\t\t{\n",
        "\t\t\t\t\"type\": \"lstm\",\n",
        "\t\t\t\t\"neurons\": 100,\n",
        "\t\t\t\t\"input_timesteps\": 49,\n",
        "\t\t\t\t\"input_dim\": 2,\n",
        "\t\t\t\t\"return_seq\": true\n",
        "\t\t\t},\n",
        "\t\t\t{\n",
        "\t\t\t\t\"type\": \"dropout\",\n",
        "\t\t\t\t\"rate\": 0.2\n",
        "\t\t\t},\n",
        "\t\t\t{\n",
        "\t\t\t\t\"type\": \"lstm\",\n",
        "\t\t\t\t\"neurons\": 100,\n",
        "\t\t\t\t\"return_seq\": true\n",
        "\t\t\t},\n",
        "\t\t\t{\n",
        "\t\t\t\t\"type\": \"lstm\",\n",
        "\t\t\t\t\"neurons\": 100,\n",
        "\t\t\t\t\"return_seq\": false\n",
        "\t\t\t},\n",
        "\t\t\t{\n",
        "\t\t\t\t\"type\": \"dropout\",\n",
        "\t\t\t\t\"rate\": 0.2\n",
        "\t\t\t},\n",
        "\t\t\t{\n",
        "\t\t\t\t\"type\": \"dense\",\n",
        "\t\t\t\t\"neurons\": 1,\n",
        "\t\t\t\t\"activation\": \"linear\"\n",
        "\t\t\t}\n",
        "\t\t]\n",
        "\t}\n",
        "}"
      ],
      "execution_count": null,
      "outputs": []
    }
  ]
}